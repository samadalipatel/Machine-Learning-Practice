{
 "cells": [
  {
   "cell_type": "markdown",
   "metadata": {},
   "source": [
    "<h1 style=\"font-size:42px; text-align:center; margin-bottom:30px;\"><span style=\"color:SteelBlue\">Module 3:</span> Classification Algorithms</h1>\n",
    "<hr>\n",
    "\n",
    "Welcome to <span style=\"color:royalblue\">Module 3: Classification Algorithms</span>!\n",
    "\n",
    "In this module, we'll dive into a few more key concepts for machine learning. In particular, we want to introduce you to 4 algorithms that we'll be using in this project:\n",
    "1. $L_1$-regularized logistic regression\n",
    "2. $L_2$-regularized logistic regression\n",
    "3. Random forests\n",
    "4. Boosted trees\n",
    "\n",
    "Just as in the previous project, we'll provide a gentle introduction to the **intuition and practical benefits** of each algorithm.\n",
    "\n",
    "<br><hr id=\"toc\">\n",
    "\n",
    "### In this module...\n",
    "\n",
    "In this module we'll walk through more key machine learning concepts, plus 4 effective algorithms for classification tasks.\n",
    "\n",
    "1. [Binary classification](#binary)\n",
    "2. [Toy example: noisy conditional](#conditional)\n",
    "3. [Logistic Regression](#logistic)\n",
    "3. [Regularized logistic algorithms](#regularized-logistic) - $L_1$-regularized and $L_2$-regularized\n",
    "4. [Tree ensemble algorithms](#tree-ensembles) - Random Forests and Boosted Trees\n",
    "\n",
    "**Tip:** Each section builds on the previous ones.\n",
    "\n",
    "<br><hr>"
   ]
  },
  {
   "cell_type": "markdown",
   "metadata": {},
   "source": [
    "### First, let's import libraries that we'll need"
   ]
  },
  {
   "cell_type": "code",
   "execution_count": 1,
   "metadata": {
    "collapsed": false
   },
   "outputs": [],
   "source": [
    "# print_function for compatibility with Python 3\n",
    "from __future__ import print_function\n",
    "# NumPy and Pandas\n",
    "import numpy as np\n",
    "\n",
    "# Matplotlib, and remember to display plots in the notebook\n",
    "import matplotlib.pyplot as plt\n",
    "%matplotlib inline\n",
    "# Seaborn for easier visualization\n",
    "import seaborn as sns"
   ]
  },
  {
   "cell_type": "markdown",
   "metadata": {},
   "source": [
    "<span id=\"binary\"></span>\n",
    "# 1. Binary classification\n",
    "\n",
    "Classification with 2 classes is so common that it gets its own name: **binary classification.** \n",
    "\n",
    "\n",
    "Just to be clear, let's take another look at the **target variable** for this problem.  First, let's look at it in the raw dataset (before we created the analytical base table)."
   ]
  },
  {
   "cell_type": "code",
   "execution_count": null,
   "metadata": {
    "collapsed": false,
    "scrolled": true
   },
   "outputs": [],
   "source": [
    "# Print unique classes for 'status' and the first 5 observations for 'status' in the raw dataset\n"
   ]
  },
  {
   "cell_type": "markdown",
   "metadata": {},
   "source": [
    "However, when we constructed our analytical base table, we converted the target variable from <code style=\"color:crimson\">'Left' / 'Employed'</code> into <code style=\"color:crimson\">1 / 0</code>."
   ]
  },
  {
   "cell_type": "code",
   "execution_count": null,
   "metadata": {
    "collapsed": false
   },
   "outputs": [],
   "source": [
    "# Print unique classes for 'status' and the first 5 observations for 'status' in the analytical base table\n"
   ]
  },
  {
   "cell_type": "markdown",
   "metadata": {},
   "source": [
    "Which is the **positive** class? How about the **negative** class?"
   ]
  },
  {
   "cell_type": "markdown",
   "metadata": {},
   "source": [
    "<p style=\"text-align:center; margin: 40px 0 40px 0; font-weight:bold;\">\n",
    "[Back to Contents](#toc)\n",
    "</p>"
   ]
  },
  {
   "cell_type": "markdown",
   "metadata": {},
   "source": [
    "<span id=\"conditional\"></span>\n",
    "# 2 - Toy example: noisy conditional\n",
    "\n",
    "We're going to use another toy example, just as we did in Project 1. \n",
    "\n",
    "This time, we're going to build models for a **noisy conditional**.\n",
    "\n",
    "\n",
    "Let's create that dataset:"
   ]
  },
  {
   "cell_type": "code",
   "execution_count": null,
   "metadata": {
    "collapsed": true
   },
   "outputs": [],
   "source": [
    "# Input feature\n",
    "\n",
    "# Noise\n",
    "\n",
    "\n",
    "# Target variable\n"
   ]
  },
  {
   "cell_type": "markdown",
   "metadata": {},
   "source": [
    "We need to **reshape** <code style=\"color:steelblue\">x</code> before moving on.\n",
    "* That's because Scikit-Learn algorithms expect input features with 2 axes. However, right now, <code style=\"color:steelblue\">x</code> only has one.\n",
    "\n",
    "To make sure it has 2 axes, reshape it to be (100, 1) and name the the reshaped object capital <code style=\"color:steelblue\">X</code>."
   ]
  },
  {
   "cell_type": "code",
   "execution_count": null,
   "metadata": {
    "collapsed": false
   },
   "outputs": [],
   "source": [
    "# Reshape x into X\n"
   ]
  },
  {
   "cell_type": "markdown",
   "metadata": {},
   "source": [
    "Next, plot a **scatterplot** of the synthetic dataset."
   ]
  },
  {
   "cell_type": "code",
   "execution_count": null,
   "metadata": {
    "collapsed": false
   },
   "outputs": [],
   "source": [
    "# Plot scatterplot of synthetic dataset\n"
   ]
  },
  {
   "cell_type": "markdown",
   "metadata": {},
   "source": [
    "<p style=\"text-align:center; margin: 40px 0 40px 0; font-weight:bold;\">\n",
    "[Back to Contents](#toc)\n",
    "</p>"
   ]
  },
  {
   "cell_type": "markdown",
   "metadata": {},
   "source": [
    "<span id=\"logistic\"></span>\n",
    "# 3. Logistic regression\n",
    "\n",
    "First, we'll discuss **logistic regression**, which is the classification analog of linear regression.\n",
    "\n",
    "Let's actually fit a linear regression model first."
   ]
  },
  {
   "cell_type": "code",
   "execution_count": null,
   "metadata": {
    "collapsed": true
   },
   "outputs": [],
   "source": [
    "# Import LinearRegression and LogisticRegression\n"
   ]
  },
  {
   "cell_type": "markdown",
   "metadata": {},
   "source": [
    "Fit a linear model, make predictions, and plot them."
   ]
  },
  {
   "cell_type": "code",
   "execution_count": null,
   "metadata": {
    "collapsed": false
   },
   "outputs": [],
   "source": [
    "# Linear model\n",
    "\n",
    "\n",
    "# Plot dataset and predictions\n"
   ]
  },
  {
   "cell_type": "markdown",
   "metadata": {},
   "source": [
    "Next, let's see how **logistic regression** differs.\n",
    "\n",
    "Let's fit a logistic regression model."
   ]
  },
  {
   "cell_type": "code",
   "execution_count": null,
   "metadata": {
    "collapsed": false
   },
   "outputs": [],
   "source": [
    "# Logistic regression\n"
   ]
  },
  {
   "cell_type": "markdown",
   "metadata": {},
   "source": [
    "Next, let's call the <code style=\"color:steelblue\">.predict()</code> function."
   ]
  },
  {
   "cell_type": "code",
   "execution_count": null,
   "metadata": {
    "collapsed": false
   },
   "outputs": [],
   "source": [
    "# predict()\n"
   ]
  },
  {
   "cell_type": "markdown",
   "metadata": {},
   "source": [
    "Call <code style=\"color:steelblue\">.predict_proba()</code> on the first 10 observations and display the results."
   ]
  },
  {
   "cell_type": "code",
   "execution_count": null,
   "metadata": {
    "collapsed": false
   },
   "outputs": [],
   "source": [
    "# predict_proba()\n"
   ]
  },
  {
   "cell_type": "markdown",
   "metadata": {},
   "source": [
    "Get the predictions for the first observation."
   ]
  },
  {
   "cell_type": "code",
   "execution_count": null,
   "metadata": {
    "collapsed": false
   },
   "outputs": [],
   "source": [
    "# Class probabilities for first observation\n"
   ]
  },
  {
   "cell_type": "markdown",
   "metadata": {},
   "source": [
    "Get the probability of **just the positive class** for the first observation."
   ]
  },
  {
   "cell_type": "code",
   "execution_count": null,
   "metadata": {
    "collapsed": false
   },
   "outputs": [],
   "source": [
    "# Positive class probability for first observation\n"
   ]
  },
  {
   "cell_type": "markdown",
   "metadata": {},
   "source": [
    "Use a simple list comprehension to extract a **list of only the predictions for the positive class**."
   ]
  },
  {
   "cell_type": "code",
   "execution_count": null,
   "metadata": {
    "collapsed": false
   },
   "outputs": [],
   "source": [
    "# Just get the second value for each prediction\n"
   ]
  },
  {
   "cell_type": "markdown",
   "metadata": {},
   "source": [
    "Ok, let's fit and plot the logistic regression model."
   ]
  },
  {
   "cell_type": "code",
   "execution_count": null,
   "metadata": {
    "collapsed": false
   },
   "outputs": [],
   "source": [
    "# Logistic regression\n",
    "\n",
    "\n",
    "# Predict probabilities\n",
    "\n",
    "\n",
    "# Just get the second value (positive class) for each prediction\n",
    "\n",
    "\n",
    "# Plot dataset and predictions\n"
   ]
  },
  {
   "cell_type": "markdown",
   "metadata": {},
   "source": [
    "<p style=\"text-align:center; margin: 40px 0 40px 0; font-weight:bold;\">\n",
    "[Back to Contents](#toc)\n",
    "</p>"
   ]
  },
  {
   "cell_type": "markdown",
   "metadata": {},
   "source": [
    "<span id=\"regularized-logistic\"></span>\n",
    "# 4. Regularized logistic regression\n",
    "\n",
    "Logistic regression has regularized versions that are analogous to those for linear regression.\n",
    "\n",
    "Just to save ourselves from repeating the same code, let's write a quick helper function that:\n",
    "1. Fits any classification model\n",
    "2. Makes predictions\n",
    "3. Extracts the positive probabilities\n",
    "4. Plots them"
   ]
  },
  {
   "cell_type": "code",
   "execution_count": null,
   "metadata": {
    "collapsed": true
   },
   "outputs": [],
   "source": [
    "def fit_and_plot_classifier(clf):\n",
    "    # Fit model\n",
    "    \n",
    "    \n",
    "    # Predict and take second value of each prediction\n",
    "    \n",
    "    \n",
    "    # Plot\n",
    "    \n",
    "    \n",
    "    # Return fitted model and predictions\n",
    "    "
   ]
  },
  {
   "cell_type": "markdown",
   "metadata": {},
   "source": [
    "Fit and plot the same logistic regression from earlier, this time using <code style=\"color:steelblue\">fit_and_plot_classifier()</code>."
   ]
  },
  {
   "cell_type": "code",
   "execution_count": null,
   "metadata": {
    "collapsed": false
   },
   "outputs": [],
   "source": [
    "# Logistic regression\n",
    "clf, pred = fit_and_plot_classifier(LogisticRegression())"
   ]
  },
  {
   "cell_type": "markdown",
   "metadata": {},
   "source": [
    "Make the penalty **4 times stronger**."
   ]
  },
  {
   "cell_type": "code",
   "execution_count": null,
   "metadata": {
    "collapsed": false,
    "scrolled": false
   },
   "outputs": [],
   "source": [
    "# More regularization\n"
   ]
  },
  {
   "cell_type": "markdown",
   "metadata": {},
   "source": [
    "Next, make the penalty **4 times weaker**."
   ]
  },
  {
   "cell_type": "code",
   "execution_count": null,
   "metadata": {
    "collapsed": false,
    "scrolled": false
   },
   "outputs": [],
   "source": [
    "# Less regularization\n"
   ]
  },
  {
   "cell_type": "markdown",
   "metadata": {},
   "source": [
    "To basically remove regularization, bump <code style=\"color:steelblue\">C</code> way up."
   ]
  },
  {
   "cell_type": "code",
   "execution_count": null,
   "metadata": {
    "collapsed": false
   },
   "outputs": [],
   "source": [
    "# Basically no regularization\n"
   ]
  },
  {
   "cell_type": "markdown",
   "metadata": {},
   "source": [
    "Set the **penalty type** to use $L_1$ regularization."
   ]
  },
  {
   "cell_type": "code",
   "execution_count": null,
   "metadata": {
    "collapsed": false
   },
   "outputs": [],
   "source": [
    "# L1 regularization\n"
   ]
  },
  {
   "cell_type": "markdown",
   "metadata": {},
   "source": [
    "Initialize $L_1$-regularized and $L_2$-regularized logistic regression **separately** and **explicitly**."
   ]
  },
  {
   "cell_type": "code",
   "execution_count": null,
   "metadata": {
    "collapsed": true
   },
   "outputs": [],
   "source": [
    "# L1-regularized logistic regression\n",
    "\n",
    "\n",
    "# L2-regularized logistic regression\n"
   ]
  },
  {
   "cell_type": "markdown",
   "metadata": {},
   "source": [
    "Finally, use $L_1$-regularization with a 4 times weaker penalty."
   ]
  },
  {
   "cell_type": "code",
   "execution_count": null,
   "metadata": {
    "collapsed": false
   },
   "outputs": [],
   "source": [
    "# L1 regularization with weaker penalty\n"
   ]
  },
  {
   "cell_type": "markdown",
   "metadata": {},
   "source": [
    "<p style=\"text-align:center; margin: 40px 0 40px 0; font-weight:bold;\">\n",
    "[Back to Contents](#toc)\n",
    "</p>"
   ]
  },
  {
   "cell_type": "markdown",
   "metadata": {},
   "source": [
    "<span id=\"tree-ensembles\"></span>\n",
    "# 5. Tree ensemble algorithms\n",
    "\n",
    "The same tree ensembles we used for regression can be applied to classification. \n",
    "\n",
    "First, import the random forest classifier."
   ]
  },
  {
   "cell_type": "code",
   "execution_count": null,
   "metadata": {
    "collapsed": true
   },
   "outputs": [],
   "source": [
    "# Import RandomForestClassifier\n"
   ]
  },
  {
   "cell_type": "markdown",
   "metadata": {},
   "source": [
    "Apply it to this toy problem."
   ]
  },
  {
   "cell_type": "code",
   "execution_count": null,
   "metadata": {
    "collapsed": false
   },
   "outputs": [],
   "source": [
    "# Random forest classifier\n"
   ]
  },
  {
   "cell_type": "markdown",
   "metadata": {},
   "source": [
    "Next, import the boosted tree classifier."
   ]
  },
  {
   "cell_type": "code",
   "execution_count": null,
   "metadata": {
    "collapsed": true
   },
   "outputs": [],
   "source": [
    "# Import GradientBoostingClassifier\n"
   ]
  },
  {
   "cell_type": "markdown",
   "metadata": {},
   "source": [
    "And finally, apply it to this toy problem."
   ]
  },
  {
   "cell_type": "code",
   "execution_count": null,
   "metadata": {
    "collapsed": false
   },
   "outputs": [],
   "source": [
    "# Random forest classifier\n"
   ]
  },
  {
   "cell_type": "markdown",
   "metadata": {},
   "source": [
    "<p style=\"text-align:center; margin: 40px 0 40px 0; font-weight:bold;\">\n",
    "[Back to Contents](#toc)\n",
    "</p>"
   ]
  },
  {
   "cell_type": "markdown",
   "metadata": {
    "collapsed": true
   },
   "source": [
    "### Next Steps\n",
    "\n",
    "Alright, that was a nice tour through some key theory and concepts, but let's get ready to dive back into the project!\n",
    "\n",
    "As a reminder, here are a few things you did in this module:\n",
    "* You learned some key terminology for binary classification, such as \"positive\" vs. \"negative\" classes.\n",
    "* You saw how logistic regression can also be regularized.\n",
    "* You played around with different settings for penalty strength.\n",
    "* And you recruited 4 algorithms: $L_1$-Regularized Logistic, $L_2$-Regularized Logistic, Random Forests, and Boosted Trees.\n",
    "\n",
    "Now that we've recruited our 4 candidate algorithms, it's time to see which one performs the best! In the next module, <span style=\"color:royalblue\">Module 4: Model Training</span>, we'll plug these algorithms into the powerful modeling process you learned in Project 2.\n",
    "\n",
    "<p style=\"text-align:center; margin: 40px 0 40px 0; font-weight:bold;\">\n",
    "[Back to Contents](#toc)\n",
    "</p>"
   ]
  }
 ],
 "metadata": {
  "anaconda-cloud": {},
  "kernelspec": {
   "display_name": "Python 2",
   "language": "python",
   "name": "python2"
  },
  "language_info": {
   "codemirror_mode": {
    "name": "ipython",
    "version": 2
   },
   "file_extension": ".py",
   "mimetype": "text/x-python",
   "name": "python",
   "nbconvert_exporter": "python",
   "pygments_lexer": "ipython2",
   "version": "2.7.13"
  }
 },
 "nbformat": 4,
 "nbformat_minor": 0
}
