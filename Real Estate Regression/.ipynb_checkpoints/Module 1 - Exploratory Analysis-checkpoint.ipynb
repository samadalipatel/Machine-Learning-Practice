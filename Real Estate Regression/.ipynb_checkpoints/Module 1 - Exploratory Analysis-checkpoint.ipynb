{
 "cells": [
  {
   "cell_type": "markdown",
   "metadata": {},
   "source": [
    "<h1 style=\"font-size:42px; text-align:center; margin-bottom:30px;\"><span style=\"color:SteelBlue\">Module 1:</span> Exploratory Analysis</h1>\n",
    "<hr>\n",
    "\n",
    "Welcome to the workbook for <span style=\"color:royalblue\">Module 1: Exploratory Analysis</span>!\n",
    "\n",
    "Our goal with this step is to \"get to know\" the data. \n",
    "* Think of it like a \"first date.\" \n",
    "* Try to learn as much about the data as possible, but don't invest too much time and get stuck on this step.\n",
    "* You'll probably need to do ad-hoc data exploration later anyway, so you don't need to be 100% comprehensive right now.\n",
    "\n",
    "<br><hr id=\"toc\">\n",
    "\n",
    "### In this module...\n",
    "\n",
    "In this module, we'll go through the essential exploratory analysis steps:\n",
    "1. [Basic information](#basic)\n",
    "2. [Distributions of numeric features](#numeric)\n",
    "3. [Distributions of categorical features](#categorical)\n",
    "4. [Segmentations](#segmentations)\n",
    "5. [Correlations](#correlations)\n",
    "\n",
    "Along the way, we'll note the practical implications of our findings.\n",
    "\n",
    "<br>\n",
    "**(Reminder) To run a code cell...** \n",
    "1. Click anywhere in the cell to select it.\n",
    "2. Press <code style=\"color:steelblue\">Shift + Enter</code> to run the code.\n",
    "3. You can insert new code cells using the **Insert** dropdown in the toolbar at the top.\n",
    "<br><hr>"
   ]
  },
  {
   "cell_type": "markdown",
   "metadata": {},
   "source": [
    "### First, let's import libraries and load the dataset.\n",
    "\n",
    "In general, it's good practice to keep all of your library imports at the top of your notebook or program.\n",
    "\n",
    "Before we do anything else, let's import the <code style=\"color:steelblue\">print()</code> function from the future to ensure our code is compatible with Python 3."
   ]
  },
  {
   "cell_type": "code",
   "execution_count": null,
   "metadata": {
    "collapsed": false
   },
   "outputs": [],
   "source": [
    "from __future__ import print_function  # Compatability with Python 3\n",
    "print( 'Print function ready to serve.' )"
   ]
  },
  {
   "cell_type": "markdown",
   "metadata": {},
   "source": [
    "Next, let's import the libraries we'll need for this module."
   ]
  },
  {
   "cell_type": "code",
   "execution_count": null,
   "metadata": {
    "collapsed": false
   },
   "outputs": [],
   "source": [
    "# NumPy for numerical computing\n",
    "import numpy as np\n",
    "\n",
    "# Pandas for DataFrames\n",
    "import pandas as pd\n",
    "pd.set_option('display.max_columns', 100)\n",
    "\n",
    "# Matplotlib for visualization\n",
    "from matplotlib import pyplot as plt\n",
    "# display plots in the notebook\n",
    "%matplotlib inline \n",
    "\n",
    "# Seaborn for easier visualization\n",
    "import seaborn as sns"
   ]
  },
  {
   "cell_type": "markdown",
   "metadata": {},
   "source": [
    "Next, let's import the dataset. \n",
    "* Pandas has a <code style=\"color:steelblue\">pd.read_csv()</code> function for importing CSV files into a Pandas DataFrame. \n",
    "* You can name the DataFrame variable anything, but we prefer the simple name: <code style=\"color:steelblue\">df</code> (short for DataFrame)."
   ]
  },
  {
   "cell_type": "code",
   "execution_count": null,
   "metadata": {
    "collapsed": false
   },
   "outputs": [],
   "source": [
    "# Load real estate data from CSV\n",
    "df = pd.read_csv('project_files/real_estate_data.csv')"
   ]
  },
  {
   "cell_type": "markdown",
   "metadata": {},
   "source": [
    "Now we're ready to jump into exploring the data!"
   ]
  },
  {
   "cell_type": "markdown",
   "metadata": {},
   "source": [
    "<br id=\"basic\">\n",
    "# 1. Basic information\n",
    "\n",
    "First, always look at basic information about the dataset. \n",
    "\n",
    "<br>\n",
    "Display the dimensions of the dataset."
   ]
  },
  {
   "cell_type": "code",
   "execution_count": null,
   "metadata": {
    "collapsed": false
   },
   "outputs": [],
   "source": [
    "# Dataframe dimensions\n"
   ]
  },
  {
   "cell_type": "markdown",
   "metadata": {},
   "source": [
    "Next, display the data types of our features."
   ]
  },
  {
   "cell_type": "code",
   "execution_count": null,
   "metadata": {
    "collapsed": false
   },
   "outputs": [],
   "source": [
    "# Column datatypes\n"
   ]
  },
  {
   "cell_type": "markdown",
   "metadata": {},
   "source": [
    "Display the first 5 rows to see example observations."
   ]
  },
  {
   "cell_type": "code",
   "execution_count": null,
   "metadata": {
    "collapsed": false
   },
   "outputs": [],
   "source": [
    "# Display first 5 rows of df\n"
   ]
  },
  {
   "cell_type": "markdown",
   "metadata": {},
   "source": [
    "<br><hr style=\"border-color:royalblue;background-color:royalblue;height:1px;\">\n",
    "## <span style=\"color:RoyalBlue\">Exercise 1.1</span>\n",
    "\n",
    "Before moving on, let's dig a bit deeper into some of these functionalities. Getting some extra practice right now will set you up for smoother success as you continue through the project.\n",
    "\n",
    "<br>\n",
    "**First, try to filter <code style=\"color:steelblue\">df.dtypes</code> to only categorical variables.**\n",
    "* **Tip:** Remember our boolean masks from the Python Crash Course?\n",
    "* **Tip:** A Series can be filtered by boolean masks the same way that a DataFrame can be."
   ]
  },
  {
   "cell_type": "code",
   "execution_count": null,
   "metadata": {
    "collapsed": false
   },
   "outputs": [],
   "source": [
    "# Filter and display only df.dtypes that are 'object'\n"
   ]
  },
  {
   "cell_type": "markdown",
   "metadata": {},
   "source": [
    "By the way, to actually get the **feature names** that you can iterate through, you have to access the <code style=\"color:steelblue\">.index</code> attribute.\n",
    "\n",
    "<br>\n",
    "**Iterate through the categorical feature names and print each name.**\n",
    "* **Tip:** Filter as you did above, and then call the <code style=\"color:steelblue\">.index</code> attribute"
   ]
  },
  {
   "cell_type": "code",
   "execution_count": null,
   "metadata": {
    "collapsed": false
   },
   "outputs": [],
   "source": [
    "# Loop through categorical feature names and print each one\n"
   ]
  },
  {
   "cell_type": "markdown",
   "metadata": {},
   "source": [
    "As you'll see later, the ability to select feature names based on some condition (instead of manually typing out each one) will be quite useful.\n",
    "\n",
    "<br>\n",
    "**Next, look at a few more examples by displaying the first 10 rows of data, instead of just the first 5.**\n",
    "* **Tip:** <code style=\"color:steelblue\">df.head()</code> returns the first 5 rows by default, but you can pass in an integer argument for the number of rows you want."
   ]
  },
  {
   "cell_type": "code",
   "execution_count": null,
   "metadata": {
    "collapsed": false
   },
   "outputs": [],
   "source": [
    "# Display the first 10 rows of data\n"
   ]
  },
  {
   "cell_type": "markdown",
   "metadata": {},
   "source": [
    "Finally, it's also helpful to look at the last 5 rows of data.\n",
    "* Sometimes datasets will have **corrupted data** hiding at the very end (depending on the data source).\n",
    "* It never hurts to double-check.\n",
    "\n",
    "<br>\n",
    "**Display the last 5 rows of data.**\n",
    "* **Hint:** You've seen the \"head,\" but what about the \"tail?\""
   ]
  },
  {
   "cell_type": "code",
   "execution_count": null,
   "metadata": {
    "collapsed": false
   },
   "outputs": [],
   "source": [
    "# Display last 5 rows of data\n"
   ]
  },
  {
   "cell_type": "markdown",
   "metadata": {},
   "source": [
    "<hr style=\"border-color:royalblue;background-color:royalblue;height:1px;\">\n",
    "\n",
    "<div style=\"text-align:center; margin: 40px 0 40px 0; font-weight:bold\">\n",
    "[Back to Contents](#toc)\n",
    "</div>"
   ]
  },
  {
   "cell_type": "markdown",
   "metadata": {},
   "source": [
    "<br id=\"numeric\">\n",
    "# 2. Distributions of numeric features\n",
    "\n",
    "One of the most enlightening data exploration tasks is plotting the distributions of your features."
   ]
  },
  {
   "cell_type": "markdown",
   "metadata": {},
   "source": [
    "<br><hr style=\"border-color:royalblue;background-color:royalblue;height:1px;\">\n",
    "## <span style=\"color:RoyalBlue\">Exercise 1.2</span>\n",
    "\n",
    "**Plot the histogram grid, but make it larger, and rotate the x-axis labels clockwise by 45 degrees.**\n",
    "* <code style=\"color:steelblue\">df.hist()</code> has a <code style=\"color:steelblue\">figsize=</code> argument takes a tuple for figure size.\n",
    "* Try making the figure size 14 x 14\n",
    "* <code style=\"color:steelblue\">df.hist()</code> has a <code style=\"color:steelblue\">xrot=</code> argument rotates x-axis labels **counter-clockwise**.\n",
    "* The [documentation](http://pandas.pydata.org/pandas-docs/version/0.17.0/generated/pandas.DataFrame.hist.html) is useful for learning more about the arguments to the <code style=\"color:steelblue\">.hist()</code> function.\n",
    "* **Tip:** It's ok to arrive at the answer through **trial and error** (this is often easier than memorizing the various arguments)."
   ]
  },
  {
   "cell_type": "code",
   "execution_count": null,
   "metadata": {
    "collapsed": false
   },
   "outputs": [],
   "source": [
    "# Plot histogram grid\n",
    "\n",
    "# Clear the text \"residue\"\n"
   ]
  },
  {
   "cell_type": "markdown",
   "metadata": {},
   "source": [
    "<br>\n",
    "Ah, much better.\n",
    "\n",
    "<hr style=\"border-color:royalblue;background-color:royalblue;height:1px;\">"
   ]
  },
  {
   "cell_type": "markdown",
   "metadata": {},
   "source": [
    "Display summary statistics for the numerical features."
   ]
  },
  {
   "cell_type": "code",
   "execution_count": null,
   "metadata": {
    "collapsed": false,
    "scrolled": true
   },
   "outputs": [],
   "source": [
    "# Summarize numerical features\n"
   ]
  },
  {
   "cell_type": "markdown",
   "metadata": {},
   "source": [
    "<div style=\"text-align:center; margin: 40px 0 40px 0; font-weight:bold\">\n",
    "[Back to Contents](#toc)\n",
    "</div>"
   ]
  },
  {
   "cell_type": "markdown",
   "metadata": {},
   "source": [
    "<br id=\"categorical\">\n",
    "# 3. Distributions of categorical features\n",
    "\n",
    "Next, let's take a look at the distributions of our categorical features.\n",
    "\n",
    "<br>\n",
    "Display summary statistics for categorical features."
   ]
  },
  {
   "cell_type": "code",
   "execution_count": null,
   "metadata": {
    "collapsed": false
   },
   "outputs": [],
   "source": [
    "# Summarize categorical features\n"
   ]
  },
  {
   "cell_type": "markdown",
   "metadata": {},
   "source": [
    "Plot bar plot for the <code style=\"color:steelblue\">'exterior_walls'</code> feature."
   ]
  },
  {
   "cell_type": "code",
   "execution_count": null,
   "metadata": {
    "collapsed": false
   },
   "outputs": [],
   "source": [
    "# Bar plot for 'exterior_walls'\n"
   ]
  },
  {
   "cell_type": "markdown",
   "metadata": {},
   "source": [
    "<br><hr style=\"border-color:royalblue;background-color:royalblue;height:1px;\">\n",
    "## <span style=\"color:RoyalBlue\">Exercise 1.3</span>\n",
    "\n",
    "**Write a <code style=\"color:steelblue\">for</code> loop to plot bar plots of each of the categorical features.**\n",
    "* Write the loop to be able to handle any number of categorical features (borrow from your answer to <span style=\"color:royalblue\">Exercise 1.1</span>).\n",
    "* Invoke <code style=\"color:steelblue\">plt.show()</code> after each bar plot to display all 3 plots in one output.\n",
    "* Which features suffer from sparse classes?"
   ]
  },
  {
   "cell_type": "code",
   "execution_count": null,
   "metadata": {
    "collapsed": false
   },
   "outputs": [],
   "source": [
    "# Plot bar plot for each categorical feature\n",
    "\n"
   ]
  },
  {
   "cell_type": "markdown",
   "metadata": {},
   "source": [
    "<hr style=\"border-color:royalblue;background-color:royalblue;height:1px;\">\n",
    "\n",
    "<div style=\"text-align:center; margin: 40px 0 40px 0; font-weight:bold\">\n",
    "[Back to Contents](#toc)\n",
    "</div>"
   ]
  },
  {
   "cell_type": "markdown",
   "metadata": {},
   "source": [
    "<br id=\"segmentations\">\n",
    "# 4. Segmentations\n",
    "\n",
    "Next, let's create some segmentations. Segmentations are powerful ways to cut the data to observe the relationship between **categorical features** and **numeric features**.\n",
    "\n",
    "<br>\n",
    "Segment <code style=\"color:steelblue\">'tx_price'</code> by <code style=\"color:steelblue\">'property_type'</code> and plot the resulting distributions"
   ]
  },
  {
   "cell_type": "code",
   "execution_count": null,
   "metadata": {
    "collapsed": false
   },
   "outputs": [],
   "source": [
    "# Segment tx_price by property_type and plot distributions\n"
   ]
  },
  {
   "cell_type": "markdown",
   "metadata": {},
   "source": [
    "Segment by <code style=\"color:steelblue\">'property_type'</code> and calculate the average value of each feature within each class:"
   ]
  },
  {
   "cell_type": "code",
   "execution_count": null,
   "metadata": {
    "collapsed": false
   },
   "outputs": [],
   "source": [
    "# Segment by property_type and display the means within each class\n"
   ]
  },
  {
   "cell_type": "markdown",
   "metadata": {},
   "source": [
    "<br><hr style=\"border-color:royalblue;background-color:royalblue;height:1px;\">\n",
    "## <span style=\"color:RoyalBlue\">Exercise 1.4</span>\n",
    "\n",
    "On average, it looks like single family homes are more expensive.\n",
    "\n",
    "How else do the different property types differ? Let's see:\n",
    "\n",
    "<br>\n",
    "**First, segment <code style=\"color:steelblue\">'sqft'</code> by <code style=\"color:steelblue\">'property_type'</code> and plot the boxplots.**"
   ]
  },
  {
   "cell_type": "code",
   "execution_count": null,
   "metadata": {
    "collapsed": false
   },
   "outputs": [],
   "source": [
    "# Segment sqft by sqft and property_type distributions\n"
   ]
  },
  {
   "cell_type": "markdown",
   "metadata": {},
   "source": [
    "<br>\n",
    "**After producing the plot, consider these questions:**\n",
    "* Which type of property is larger, on average?\n",
    "* Which type of property sees greater variance in sizes?\n",
    "* Does the difference in distributions between classes make intuitive sense?\n",
    "\n",
    "<br>\n",
    "**Next, display the standard deviations of each feature alongside their means after performing a groupby.**\n",
    "* This will give you a better idea of the variation within in feature, by class.\n",
    "* **Tip:** Pass a list of metrics into the <code style=\"color:steelblue\">.agg()</code> function, after performing your groupby.\n",
    "* Check out the [documentation](http://pandas.pydata.org/pandas-docs/stable/groupby.html#applying-multiple-functions-at-once) for more help."
   ]
  },
  {
   "cell_type": "code",
   "execution_count": null,
   "metadata": {
    "collapsed": false
   },
   "outputs": [],
   "source": [
    "# Segment by property_type and display the means and standard deviations within each class\n"
   ]
  },
  {
   "cell_type": "markdown",
   "metadata": {},
   "source": [
    "<hr style=\"border-color:royalblue;background-color:royalblue;height:1px;\">\n",
    "<div style=\"text-align:center; margin: 40px 0 40px 0; font-weight:bold\">\n",
    "[Back to Contents](#toc)\n",
    "</div>"
   ]
  },
  {
   "cell_type": "markdown",
   "metadata": {},
   "source": [
    "<br id=\"correlations\">\n",
    "# 5. Correlations\n",
    "\n",
    "Finally, let's take a look at the relationships between **numeric features** and **other numeric features**.\n",
    "\n",
    "<br>\n",
    "Create a <code style=\"color:steelblue\">correlations</code> dataframe from <code style=\"color:steelblue\">df</code>."
   ]
  },
  {
   "cell_type": "code",
   "execution_count": null,
   "metadata": {
    "collapsed": false
   },
   "outputs": [],
   "source": [
    "# Calculate correlations between numeric features\n"
   ]
  },
  {
   "cell_type": "markdown",
   "metadata": {},
   "source": [
    "Visualize the correlation grid with a heatmap to make it easier to digest."
   ]
  },
  {
   "cell_type": "code",
   "execution_count": null,
   "metadata": {
    "collapsed": false
   },
   "outputs": [],
   "source": [
    "# Make the figsize 7 x 6\n",
    "\n",
    "# Plot heatmap of correlations\n"
   ]
  },
  {
   "cell_type": "markdown",
   "metadata": {},
   "source": [
    "<br><hr style=\"border-color:royalblue;background-color:royalblue;height:1px;\">\n",
    "## <span style=\"color:RoyalBlue\">Exercise 1.5</span>\n",
    "\n",
    "When plotting a heatmap of correlations, it's often helpful to do four things:\n",
    "1. Change the background to white. This way, 0 correlation will show as white\n",
    "2. Annotate the cell with their correlations values\n",
    "3. Mask the top triangle (less visual noise)\n",
    "4. Drop the legend (colorbar on the side)\n",
    "\n",
    "<br>\n",
    "**First, change the background to white.**\n",
    "* Seaborn has several different **themes**. The default theme is called <code style=\"color:crimson\">'darkgrid'</code>.\n",
    "* You can change the theme with <code style=\"color:steelblue\">sns.set_style()</code>.\n",
    "* You only need to run this once, and the theme will persist until you change it again.\n",
    "* Change the theme to <code style=\"color:crimson\">'white'</code>\n",
    "* Make the figure size 10 x 8"
   ]
  },
  {
   "cell_type": "code",
   "execution_count": null,
   "metadata": {
    "collapsed": false
   },
   "outputs": [],
   "source": [
    "# Change color scheme\n",
    "\n",
    "# Make the figsize 10 x 8\n",
    "plt.figure(figsize=(10,8))\n",
    "\n",
    "# Plot heatmap of correlations\n"
   ]
  },
  {
   "cell_type": "markdown",
   "metadata": {},
   "source": [
    "See how the cells for <code style=\"color:steelblue\">'basement'</code> are now white? That's what we want because they were not able to be calculated.\n",
    "\n",
    "<br>\n",
    "**Next, display the correlation values in each cell.**\n",
    "* The <code style=\"color:steelblue\">annot=</code> argument controls whether to annotate each cell with its value. By default, it's <code style=\"color:crimson\">False</code>.\n",
    "* To make the chart cleaner, multiply the <code style=\"color:steelblue\">correlations</code> DataFrame by 100 before passing it to the heatmap function.\n",
    "* Pass in the argument <code style=\"color:steelblue\">fmt=<span style=\"color:crimson\">'.0f'</span></code> to format the annotations to a whole number."
   ]
  },
  {
   "cell_type": "code",
   "execution_count": null,
   "metadata": {
    "collapsed": false
   },
   "outputs": [],
   "source": [
    "# Make the figsize 10 x 8\n",
    "\n",
    "# Plot heatmap of annotated correlations\n"
   ]
  },
  {
   "cell_type": "markdown",
   "metadata": {},
   "source": [
    "<br>\n",
    "**Next, we'll generate a mask for the top triangle. Run this code:**"
   ]
  },
  {
   "cell_type": "code",
   "execution_count": null,
   "metadata": {
    "collapsed": true
   },
   "outputs": [],
   "source": [
    "# Generate a mask for the upper triangle\n",
    "mask = np.zeros_like(correlations, dtype=np.bool)\n",
    "mask[np.triu_indices_from(mask)] = True"
   ]
  },
  {
   "cell_type": "markdown",
   "metadata": {},
   "source": [
    "<br>\n",
    "**Plot the heatmap again, this time using that mask.**\n",
    "* <code style=\"color:steelblue\">sns.heatmap()</code> has a <code style=\"color:steelblue\">mask=</code> argument.\n",
    "* Keep all of the other styling changes you've made up to now."
   ]
  },
  {
   "cell_type": "code",
   "execution_count": null,
   "metadata": {
    "collapsed": false
   },
   "outputs": [],
   "source": [
    "# Make the figsize 10 x 8\n",
    "\n",
    "# Plot heatmap of correlations\n"
   ]
  },
  {
   "cell_type": "markdown",
   "metadata": {},
   "source": [
    "<br>\n",
    "**Finally, remove the colorbar on the side.**\n",
    "* <code style=\"color:steelblue\">sns.heatmap()</code> has a <code style=\"color:steelblue\">cbar=</code> argument. By default, it's <code style=\"color:crimson\">True</code>.\n",
    "* Keep all of the other styling changes you've made up to now.\n",
    "* But change the figure size to 9 x 8 (since we're removing the sidebar, this will help us keep nice proportions)"
   ]
  },
  {
   "cell_type": "code",
   "execution_count": null,
   "metadata": {
    "collapsed": false
   },
   "outputs": [],
   "source": [
    "# Make the figsize 9 x 8\n",
    "\n",
    "# Plot heatmap of correlations\n"
   ]
  },
  {
   "cell_type": "markdown",
   "metadata": {},
   "source": [
    "<hr style=\"border-color:royalblue;background-color:royalblue;height:1px;\">\n",
    "<div style=\"text-align:center; margin: 40px 0 40px 0; font-weight:bold\">\n",
    "[Back to Contents](#toc)\n",
    "</div>"
   ]
  },
  {
   "cell_type": "markdown",
   "metadata": {},
   "source": [
    "<br>\n",
    "## Next Steps\n",
    "\n",
    "Congratulations for making it through Project 2's Exploratory Analysis!\n",
    "\n",
    "Before powering on to the next module, we recommend going back and reviewing the charts you made. This time, since you've already created them, you can move through more quickly and really start to understand the **story** behind the data.\n",
    "\n",
    "As a reminder, here are a few things you did in this module:\n",
    "* You explored basic information about your dataset.\n",
    "* You plotted distributions of numeric and categorical features.\n",
    "* You segmented your dataset by <code style=\"color:steelblue\">'property_type'</code>.\n",
    "* And you visualized a heatmap of feature correlations.\n",
    "\n",
    "As you work through the next module, <span style=\"color:royalblue\">Module 2: Data Cleaning</span>, we recommend keeping this workbook open in a separate tab. It might be helpful to have your charts in front of you as you clean the data.\n",
    "\n",
    "<div style=\"text-align:center; margin: 40px 0 40px 0; font-weight:bold\">\n",
    "[Back to Contents](#toc)\n",
    "</div>"
   ]
  }
 ],
 "metadata": {
  "anaconda-cloud": {},
  "kernelspec": {
   "display_name": "Python 2",
   "language": "python",
   "name": "python2"
  },
  "language_info": {
   "codemirror_mode": {
    "name": "ipython",
    "version": 2
   },
   "file_extension": ".py",
   "mimetype": "text/x-python",
   "name": "python",
   "nbconvert_exporter": "python",
   "pygments_lexer": "ipython2",
   "version": "2.7.13"
  }
 },
 "nbformat": 4,
 "nbformat_minor": 0
}
